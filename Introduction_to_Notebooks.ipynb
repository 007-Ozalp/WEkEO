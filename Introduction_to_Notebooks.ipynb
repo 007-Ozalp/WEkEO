{
 "cells": [
  {
   "cell_type": "markdown",
   "metadata": {},
   "source": [
    "# Introduction to Notebooks: \n",
    "# CMEMS Reanalysis Sea Surface Temperature \n",
    "# in the Adriatic Sea\n",
    "\n",
    "#### The main objective of the Notebooks is to show Seasonal and Annual Maps together with Trends and Time Series over the area of interest.\n",
    "\n",
    " ##### WEkEO Part 1: Describe how to get the data from CMEMS\n",
    " ##### WEkEO Part 2: Describe Functions for the Aggregations\n",
    " ##### WEkEO Part 3: Describe Map Visualisations and Analysis \n",
    "\n",
    "##### The method is as follows:  \n",
    "###### ![cmems_sst_workflow](cmems_sst_workflow.png)"
   ]
  },
  {
   "cell_type": "code",
   "execution_count": null,
   "metadata": {},
   "outputs": [],
   "source": []
  }
 ],
 "metadata": {
  "kernelspec": {
   "display_name": "Python 3 (ipykernel)",
   "language": "python",
   "name": "python3"
  },
  "language_info": {
   "codemirror_mode": {
    "name": "ipython",
    "version": 3
   },
   "file_extension": ".py",
   "mimetype": "text/x-python",
   "name": "python",
   "nbconvert_exporter": "python",
   "pygments_lexer": "ipython3",
   "version": "3.8.6"
  }
 },
 "nbformat": 4,
 "nbformat_minor": 4
}
