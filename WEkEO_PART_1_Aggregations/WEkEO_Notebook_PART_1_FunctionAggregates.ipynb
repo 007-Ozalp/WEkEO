{
 "cells": [
  {
   "cell_type": "markdown",
   "metadata": {},
   "source": [
    "### WEkEO Notebook - PART 1\n",
    "\n",
    "##### The  \"FunctionAggregates.py\" contains functions for the data aggregations. \n",
    "\n",
    "#### Library imports:\n",
    "######     pip install xarray\n",
    "######     pip install netCDF4\n",
    "######     pip install csv\n",
    "\n",
    "##### Initially, the input data is reseized over interested area, then is elaborated for the preparation of the annual  and seasonal maps and data analysis. \n"
   ]
  },
  {
   "cell_type": "markdown",
   "metadata": {},
   "source": [
    "The \"FunctionAggregates\" as \"fa\" contains the specific functions for the aggregations.\n",
    "The features are defined by the \"faNcFileSpec\" then, the \"faClipDataOnRegion\" function is created to clip the input netCDF file over the Adriatic Sea through csv file for the following functions in 2 dimensional NetCDF files:\n",
    "\n",
    "* \"faGenerate2DAnnualMeanMaps\" to create Annual Mean Map with the time coverage of 33 years.\n",
    "* \"faGenerate2DSeasonalWinter\" to create Winter Season Map\n",
    "* \"faGenerate2DSeasonalSummer\" to create Summer Season Map\n",
    "\n",
    "The winter Season is defined from January to April, and the Summer Season from July to October with the time coverage of 33 years. (ref: https://journals.ametsoc.org/view/journals/phoc/27/8/1520-0485_1997_027_1492_tasgcp_2.0.co_2.xml )\n",
    "\n",
    "\n",
    "\n",
    "While the following functions are generated for the annual Time Series and standard deviation analysis \n",
    "and monthly violin plot:\n",
    "\n",
    "* \"faGenerate1DFixDim\" to generate Mean sized \"Latitude\" and \"Longitude\"  1 dimensional NetCDF file over previously clipped data\n",
    "* \"faGenerate1DFixDimCSV\" to generate Mean sized \"Latitude\" and \"Longitude\"  1 dimensional CSV file over previously clipped data\n"
   ]
  },
  {
   "cell_type": "code",
   "execution_count": 1,
   "metadata": {},
   "outputs": [],
   "source": [
    "import xarray as xr\n",
    "import pandas as pd\n",
    "import FunctionAggregates as fa\n"
   ]
  },
  {
   "cell_type": "markdown",
   "metadata": {},
   "source": [
    "##### The input files \"WEkEO_SST_DATA/CMEMS_SST.nc\" and \"WEkEO_SST_DATA/areaAdriatic.csv\" can be downloaded from the following link:\n",
    "##### https://drive.google.com/drive/u/0/folders/1D1kQBpmnS4r2Dhq7f8bkhWXC_WF8gIkD\n",
    "\n",
    "\n",
    "The \"faNcFileSpec\" is the function which describes the Class Definition:\n",
    "1. Variable Name: VarName \n",
    "\n",
    "The file Dimension are defined by:\n",
    "\n",
    "2. Longitude: xVarName\n",
    "3. Latitude: yVarName\n",
    "4. Depth: zVarName\n",
    "5. Time: tVarName \n",
    "\n",
    "\n",
    "\n",
    "\"areaPerimeter\" is delimiting the area of interest. In the dataset, the 1st column is longitude, the 2nd column is latitude. "
   ]
  },
  {
   "cell_type": "code",
   "execution_count": 2,
   "metadata": {},
   "outputs": [],
   "source": [
    "fa.areaPerimeter =pd.read_csv (\"WEkEO_SST_DATA/areaAdriatic.csv\")\n",
    "\n",
    "rawDataFileSpec = fa.faNcFileSpec(ncFileName=\"CMEMS_SST.nc\",VarName=\"thetao\", xVarName=\"lon\", yVarName=\"lat\", zVarName=\"depth\", tVarName=\"time\" )"
   ]
  },
  {
   "cell_type": "code",
   "execution_count": 3,
   "metadata": {},
   "outputs": [],
   "source": [
    "dataOutput = \"WEkEO_SST_DATA/CMEMS_SST_clipped.nc\""
   ]
  },
  {
   "cell_type": "markdown",
   "metadata": {},
   "source": [
    "The Clipped file is saved as \"CMEMS_SST_clipped.nc\" to generate 2D maps. "
   ]
  },
  {
   "cell_type": "code",
   "execution_count": 4,
   "metadata": {},
   "outputs": [],
   "source": [
    "ncRawDataFileName1 = \"WEkEO_SST_DATA/CMEMS_SST_clipped.nc\"\n",
    "annualMapsNcFile = \"WEkEO_SST_DATA/CMEMS_SST_clipped_Annual_Mean.nc\""
   ]
  },
  {
   "cell_type": "code",
   "execution_count": 5,
   "metadata": {},
   "outputs": [],
   "source": [
    "rawData1 = xr.open_dataset(ncRawDataFileName1)\n"
   ]
  },
  {
   "cell_type": "markdown",
   "metadata": {},
   "source": [
    "The clipped file has been indexed in \"months\" through XARRAY then average by year and finally saved as \"CMEMS_SST_clipped_Annual_Mean.nc\" by using \"faGenerate2DAnnualMeanMaps\" function\n",
    "\n",
    "* am1 = t.sel(time=AM(t['time.month']))\n",
    "* am2 = am1.groupby('time.year').mean('time')"
   ]
  },
  {
   "cell_type": "code",
   "execution_count": 6,
   "metadata": {},
   "outputs": [
    {
     "name": "stdout",
     "output_type": "stream",
     "text": [
      "ANNUAL MEAN for 33 years: <xarray.Dataset>\n",
      "Dimensions:  (lat: 146, lon: 188, year: 33)\n",
      "Coordinates:\n",
      "    depth    float32 1.018\n",
      "  * lat      (lat) float32 39.73 39.77 39.81 39.85 ... 45.65 45.69 45.73 45.77\n",
      "  * lon      (lon) float32 12.17 12.21 12.25 12.29 ... 19.83 19.88 19.92 19.96\n",
      "  * year     (year) int64 1987 1988 1989 1990 1991 ... 2015 2016 2017 2018 2019\n",
      "Data variables:\n",
      "    thetao   (year, lat, lon) float32 19.11 19.11 19.12 19.13 ... nan nan nan\n",
      "saving to  WEkEO_SST_DATA/CMEMS_SST_clipped_Annual_Mean.nc\n",
      "finished saving\n",
      "Annual Mean minimum T: <xarray.DataArray 'thetao' ()>\n",
      "array(15.038228, dtype=float32)\n",
      "Coordinates:\n",
      "    depth    float32 1.018\n",
      "Annual Mean maximum T: <xarray.DataArray 'thetao' ()>\n",
      "array(20.717798, dtype=float32)\n",
      "Coordinates:\n",
      "    depth    float32 1.018\n"
     ]
    }
   ],
   "source": [
    "clippedDataAM = fa.faGenerate2DAnnualMeanMaps(rawData1, annualMapsNcFile)"
   ]
  },
  {
   "cell_type": "markdown",
   "metadata": {},
   "source": [
    "##### The Seasonal Maps in 2D has been generated from \"CMEMS_SST_clipped.nc\" file and saved as \"CMEMS_SST_2DWINTER_SEASON.nc\" and \"CMEMS_SST_2DSUMMER_SEASON.nc\" by using \"faGenerate2DSeasonalWinter\" and \"faGenerate2DSeasonalSummer\" functions \n",
    "\n",
    "As previously noted \"The winter Season\" is defined between January and April through the following function:\n",
    "\n",
    "* \"faGenerate2DSeasonalWinter\"\n",
    "\n",
    "      def WINTER(month):\n",
    "    \n",
    "        return (month >= 1) & (month <= 4)\n",
    "\n",
    "While the \"The Summer Season\" is defined between July and October: \n",
    "\n",
    "* \"faGenerate2DSeasonalSummer\"\n",
    "\n",
    "      def SUMMER(month):\n",
    "        \n",
    "        return (month >= 7) & (month <= 10)\n",
    "    "
   ]
  },
  {
   "cell_type": "code",
   "execution_count": 7,
   "metadata": {},
   "outputs": [],
   "source": [
    "winter_output= \"WEkEO_SST_DATA/CMEMS_SST_2DWINTER_SEASON.nc\"\n",
    "summer_output=\"WEkEO_SST_DATA/CMEMS_SST_2DSUMMER_SEASON.nc\""
   ]
  },
  {
   "cell_type": "code",
   "execution_count": 8,
   "metadata": {},
   "outputs": [
    {
     "name": "stdout",
     "output_type": "stream",
     "text": [
      "Reseized Area: <xarray.Dataset>\n",
      "Dimensions:  (lat: 146, lon: 188, year: 33)\n",
      "Coordinates:\n",
      "    depth    float32 1.018\n",
      "  * lat      (lat) float32 39.73 39.77 39.81 39.85 ... 45.65 45.69 45.73 45.77\n",
      "  * lon      (lon) float32 12.17 12.21 12.25 12.29 ... 19.83 19.88 19.92 19.96\n",
      "  * year     (year) int64 1987 1988 1989 1990 1991 ... 2015 2016 2017 2018 2019\n",
      "Data variables:\n",
      "    thetao   (year, lat, lon) float32 13.69 13.7 13.72 13.75 ... nan nan nan nan\n",
      "WINTER SEASON MINIMUM TEMPERATURE AT SEA SURFACE: <xarray.DataArray 'thetao' ()>\n",
      "array(7.6017065, dtype=float32)\n",
      "Coordinates:\n",
      "    depth    float32 1.018\n",
      "WINTER SEASON MAXIMUM TEMPERATURE AT SEA SURFACE: <xarray.DataArray 'thetao' ()>\n",
      "array(16.397697, dtype=float32)\n",
      "Coordinates:\n",
      "    depth    float32 1.018\n",
      "saving to  WEkEO_SST_DATA/CMEMS_SST_2DWINTER_SEASON.nc\n",
      "finished saving\n"
     ]
    }
   ],
   "source": [
    "SeasonWinter = fa.faGenerate2DSeasonalWinter(rawData1,winter_output)"
   ]
  },
  {
   "cell_type": "code",
   "execution_count": 9,
   "metadata": {},
   "outputs": [
    {
     "name": "stdout",
     "output_type": "stream",
     "text": [
      "Reseized Area: <xarray.Dataset>\n",
      "Dimensions:  (lat: 146, lon: 188, year: 33)\n",
      "Coordinates:\n",
      "    depth    float32 1.018\n",
      "  * lat      (lat) float32 39.73 39.77 39.81 39.85 ... 45.65 45.69 45.73 45.77\n",
      "  * lon      (lon) float32 12.17 12.21 12.25 12.29 ... 19.83 19.88 19.92 19.96\n",
      "  * year     (year) int64 1987 1988 1989 1990 1991 ... 2015 2016 2017 2018 2019\n",
      "Data variables:\n",
      "    thetao   (year, lat, lon) float32 25.26 25.27 25.28 25.29 ... nan nan nan\n",
      "SUMMER SEASON MINIMUM TEMPERATURE AT SEA SURFACE: <xarray.DataArray 'thetao' ()>\n",
      "array(19.326422, dtype=float32)\n",
      "Coordinates:\n",
      "    depth    float32 1.018\n",
      "SUMMER SEASON MAXIMUM TEMPERATURE AT SEA SURFACE: <xarray.DataArray 'thetao' ()>\n",
      "array(26.531475, dtype=float32)\n",
      "Coordinates:\n",
      "    depth    float32 1.018\n",
      "saving to  WEkEO_SST_DATA/CMEMS_SST_2DSUMMER_SEASON.nc\n",
      "finished saving\n"
     ]
    }
   ],
   "source": [
    "SeasonSummer = fa.faGenerate2DSeasonalSummer(rawData1,summer_output)"
   ]
  },
  {
   "cell_type": "markdown",
   "metadata": {},
   "source": [
    "##### The following 1D outputs have Mean sized \"Latitude\" and \"Longitude\" and are used in the \"FunctionAggregatesPlots.py\" to display trends and analysis in \"FunctionAggregatesPlots.ipynb\" in WEkEO Notebook - PART 2\n"
   ]
  },
  {
   "cell_type": "code",
   "execution_count": 10,
   "metadata": {},
   "outputs": [],
   "source": [
    "NcFile1Doutput = \"WEkEO_SST_DATA/CMEMS_SST_clipped_1D_FIXED_DIM.nc\"\n"
   ]
  },
  {
   "cell_type": "code",
   "execution_count": 11,
   "metadata": {},
   "outputs": [
    {
     "name": "stdout",
     "output_type": "stream",
     "text": [
      "saving to  WEkEO_SST_DATA/CMEMS_SST_clipped_1D_FIXED_DIM.nc\n",
      "finished saving\n",
      "File Dimension: <xarray.Dataset>\n",
      "Dimensions:  (time: 12053)\n",
      "Coordinates:\n",
      "  * time     (time) datetime64[ns] 1987-01-01T12:00:00 ... 2019-12-31T12:00:00\n",
      "    depth    float32 1.018\n",
      "Data variables:\n",
      "    thetao   (time) float32 13.98 13.95 13.93 13.85 ... 16.13 15.95 15.8 15.69\n"
     ]
    }
   ],
   "source": [
    "NcFile1Doutputfix1D=fa.faGenerate1DFixDim(rawData1,NcFile1Doutput)"
   ]
  },
  {
   "cell_type": "code",
   "execution_count": 12,
   "metadata": {},
   "outputs": [],
   "source": [
    "NcFile1DoutputCSV= \"WEkEO_SST_DATA/CMEMS_SST_clipped_1D_FIXED_DIM.csv\""
   ]
  },
  {
   "cell_type": "code",
   "execution_count": 13,
   "metadata": {},
   "outputs": [],
   "source": [
    "clippedData1Dcsv = fa.faGenerate1DFixDimCSV(NcFile1Doutput,NcFile1DoutputCSV)"
   ]
  },
  {
   "cell_type": "code",
   "execution_count": 14,
   "metadata": {},
   "outputs": [
    {
     "data": {
      "text/plain": [
       "1987-01-01 12:00:00    13.981805\n",
       "1987-01-02 12:00:00    13.951108\n",
       "1987-01-03 12:00:00    13.931457\n",
       "1987-01-04 12:00:00    13.849789\n",
       "1987-01-05 12:00:00    13.725996\n",
       "                         ...    \n",
       "2019-12-27 12:00:00    16.223177\n",
       "2019-12-28 12:00:00    16.133165\n",
       "2019-12-29 12:00:00    15.948340\n",
       "2019-12-30 12:00:00    15.800557\n",
       "2019-12-31 12:00:00    15.685452\n",
       "Length: 12053, dtype: float32"
      ]
     },
     "execution_count": 14,
     "metadata": {},
     "output_type": "execute_result"
    }
   ],
   "source": [
    "clippedData1Dcsv"
   ]
  },
  {
   "cell_type": "code",
   "execution_count": null,
   "metadata": {},
   "outputs": [],
   "source": []
  },
  {
   "cell_type": "code",
   "execution_count": null,
   "metadata": {},
   "outputs": [],
   "source": []
  }
 ],
 "metadata": {
  "kernelspec": {
   "display_name": "Python 3 (ipykernel)",
   "language": "python",
   "name": "python3"
  },
  "language_info": {
   "codemirror_mode": {
    "name": "ipython",
    "version": 3
   },
   "file_extension": ".py",
   "mimetype": "text/x-python",
   "name": "python",
   "nbconvert_exporter": "python",
   "pygments_lexer": "ipython3",
   "version": "3.8.6"
  }
 },
 "nbformat": 4,
 "nbformat_minor": 5
}
