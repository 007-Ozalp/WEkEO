{
 "cells": [
  {
   "cell_type": "markdown",
   "metadata": {},
   "source": [
    "### WEkEO Notebook - PART 2\n",
    "#### Library imports:\n",
    "######     pip install xarray\n",
    "##### The \"FunctionAggregates.py\" contains the details of the data elaboration for the outputs. \n",
    "######     pip install netCDF4\n",
    "\n",
    "##### First of all, the input data is reseized over interested area, then is elaborated for the preparation of annual  and seasonal maps. The clipped annual map contains 33 years time period.\n",
    "##### Two extreme seasons is distinguished, namely: \n",
    "##### Winter Season from January to April, and Summer Season from July to October.\n",
    "<ol>\n",
    "<li>\n",
    "Input file is reseized over interested area: \"CMEMS_SST_clipped.nc\"</li>\n",
    "\n",
    "<li> \n",
    "Annual file over 33 years is prepared for the visualization: \"CMEMS_SST_clipped_Annual_Mean.nc\"</li>\n",
    "\n",
    "<li> \n",
    "Winter Period time selection for 33 years is in the \"CMEMS_SST_2DWINTER_SEASON.nc\"</li>\n",
    "\n",
    "https://journals.ametsoc.org/view/journals/phoc/27/8/1520-0485_1997_027_1492_tasgcp_2.0.co_2.xml\n",
    "<li> \n",
    "Summer Period time selection for 33 years is in the \"CMEMS_SST_2DSUMMER_SEASON.nc\"</li>\n",
    "\n",
    "https://journals.ametsoc.org/view/journals/phoc/27/8/1520-0485_1997_027_1492_tasgcp_2.0.co_2.xml\n",
    "<li>\n",
    "The dimensions of Longitude, Latitude have been fixed to show The annual trend analysis by the \"CMEMS_SST_clipped_1D_FIXED_DIM.nc\" file. </li>\n",
    "\n",
    "<li>\n",
    "While \"CMEMS_SST_clipped_1D_FIXED_DIM.csv\" is used for the annual Time Series and standard deviation analysis \n",
    "and monthly violin plot</li>\n",
    "</ol>\n"
   ]
  },
  {
   "cell_type": "markdown",
   "metadata": {},
   "source": [
    "##### Library imports\n",
    "##### pip install xarray\n",
    "##### pip install netCDF4"
   ]
  },
  {
   "cell_type": "code",
   "execution_count": null,
   "metadata": {},
   "outputs": [],
   "source": [
    "import xarray as xr\n",
    "import pandas as pd\n",
    "import FunctionAggregates as fa\n"
   ]
  },
  {
   "cell_type": "markdown",
   "metadata": {},
   "source": [
    "#### The input Files are present in the following link:\n",
    "##### https://drive.google.com/drive/u/0/folders/1D1kQBpmnS4r2Dhq7f8bkhWXC_WF8gIkD\n"
   ]
  },
  {
   "cell_type": "markdown",
   "metadata": {},
   "source": [
    "##### The Area of interest is the Adriatic Sea and the DATA PATH is defined in the WEkEO_SST_DATA/areaAdriatic.csv  "
   ]
  },
  {
   "cell_type": "code",
   "execution_count": null,
   "metadata": {},
   "outputs": [],
   "source": [
    "fa.areaPerimeter =pd.read_csv (\"WEkEO_SST_DATA/areaAdriatic.csv\")"
   ]
  },
  {
   "cell_type": "markdown",
   "metadata": {},
   "source": [
    "#### The input File is WEkEO_SST_DATA/CMEMS_SST.nc \n",
    "##### The variable name is \"thetao\" and the dimension of the file is described x for \"lon\", y for \"lat, \n",
    "##### x for \"depth and time as \"time\".\n"
   ]
  },
  {
   "cell_type": "code",
   "execution_count": null,
   "metadata": {},
   "outputs": [],
   "source": [
    "rawDataFileSpec = fa.faNcFileSpec(ncFileName=\"CMEMS_SST.nc\",VarName=\"thetao\", xVarName=\"lon\", yVarName=\"lat\", zVarName=\"depth\", tVarName=\"time\" )"
   ]
  },
  {
   "cell_type": "markdown",
   "metadata": {},
   "source": [
    "#### The input file is clipped over areaAdriatic.csv and the output file is saved in \"CMEMS_SST_clipped.nc\"\n"
   ]
  },
  {
   "cell_type": "code",
   "execution_count": null,
   "metadata": {},
   "outputs": [],
   "source": [
    "dataOutput = \"WEkEO_SST_DATA/CMEMS_SST_clipped.nc\""
   ]
  },
  {
   "cell_type": "markdown",
   "metadata": {},
   "source": [
    "##### \"faClipDataOnRegion\" function is used to clip the input data over interested area\n",
    "##### The input File is described by \"dataInputNc\".\n",
    "##### \"areaPerimeter\" is delimiting the area of interest. In the dataset, the 1st column is longitude, the 2nd column is latitude. \n",
    "##### \"dataOutputNcFpath\" is the path of the output nc file."
   ]
  },
  {
   "cell_type": "markdown",
   "metadata": {},
   "source": [
    "clippedData = fa.faClipDataOnRegion(rawDataFileSpec, fa.areaPerimeter,dataOutput)"
   ]
  },
  {
   "cell_type": "markdown",
   "metadata": {},
   "source": [
    "##### \"CMEMS_SST_clipped_Annual_Mean.nc\"  file is the output file to display the annual mean map"
   ]
  },
  {
   "cell_type": "code",
   "execution_count": null,
   "metadata": {},
   "outputs": [],
   "source": [
    "ncRawDataFileName1 = \"WEkEO_SST_DATA/CMEMS_SST_clipped.nc\"\n",
    "annualMapsNcFile = \"WEkEO_SST_DATA/CMEMS_SST_clipped_Annual_Mean.nc\""
   ]
  },
  {
   "cell_type": "code",
   "execution_count": null,
   "metadata": {},
   "outputs": [],
   "source": [
    "rawData1 = xr.open_dataset(ncRawDataFileName1)\n"
   ]
  },
  {
   "cell_type": "code",
   "execution_count": null,
   "metadata": {},
   "outputs": [],
   "source": [
    "clippedDataAM = fa.faGenerate2DAnnualMeanMaps(rawData1, annualMapsNcFile)"
   ]
  },
  {
   "cell_type": "markdown",
   "metadata": {},
   "source": [
    "##### \"CMEMS_SST_2DWINTER_SEASON.nc\" file is saved for the visualization of the winter season while \"CMEMS_SST_2DSUMMER_SEASON.nc\" is for the summer season"
   ]
  },
  {
   "cell_type": "code",
   "execution_count": null,
   "metadata": {},
   "outputs": [],
   "source": [
    "winter_output= \"WEkEO_SST_DATA/CMEMS_SST_2DWINTER_SEASON.nc\"\n",
    "summer_output=\"WEkEO_SST_DATA/CMEMS_SST_2DSUMMER_SEASON.nc\""
   ]
  },
  {
   "cell_type": "markdown",
   "metadata": {},
   "source": [
    "##### The winter period is defined from January to April through \"faGenerate2DSeasonalWinter\" function"
   ]
  },
  {
   "cell_type": "code",
   "execution_count": null,
   "metadata": {},
   "outputs": [],
   "source": [
    "SeasonWinter = fa.faGenerate2DSeasonalWinter(rawData1,winter_output)"
   ]
  },
  {
   "cell_type": "markdown",
   "metadata": {},
   "source": [
    "##### The summer period is defined from July to October through \"faGenerate2DSeasonalSummer\" function"
   ]
  },
  {
   "cell_type": "code",
   "execution_count": null,
   "metadata": {},
   "outputs": [],
   "source": [
    "SeasonSummer = fa.faGenerate2DSeasonalSummer(rawData1,summer_output)"
   ]
  },
  {
   "cell_type": "markdown",
   "metadata": {},
   "source": [
    "##### The following outputs are used in the \"FunctionAggregatesPlots.py\" to display trends and analysis in \"FunctionAggregatesPlots.ipynb\"  \n"
   ]
  },
  {
   "cell_type": "code",
   "execution_count": null,
   "metadata": {},
   "outputs": [],
   "source": [
    "NcFile1Doutput = \"WEkEO_SST_DATA/CMEMS_SST_clipped_1D_FIXED_DIM.nc\"\n"
   ]
  },
  {
   "cell_type": "code",
   "execution_count": null,
   "metadata": {},
   "outputs": [],
   "source": [
    "NcFile1DoutputCSV= \"WEkEO_SST_DATA/CMEMS_SST_clipped_1D_FIXED_DIM.csv\""
   ]
  },
  {
   "cell_type": "code",
   "execution_count": null,
   "metadata": {},
   "outputs": [],
   "source": [
    "clippedData1Dcsv = fa.faGenerate1DFixDimCSV(NcFile1Doutput,NcFile1DoutputCSV)"
   ]
  },
  {
   "cell_type": "code",
   "execution_count": null,
   "metadata": {},
   "outputs": [],
   "source": [
    "clippedData1Dcsv"
   ]
  },
  {
   "cell_type": "code",
   "execution_count": null,
   "metadata": {},
   "outputs": [],
   "source": []
  }
 ],
 "metadata": {
  "kernelspec": {
   "display_name": "Python 3 (ipykernel)",
   "language": "python",
   "name": "python3"
  },
  "language_info": {
   "codemirror_mode": {
    "name": "ipython",
    "version": 3
   },
   "file_extension": ".py",
   "mimetype": "text/x-python",
   "name": "python",
   "nbconvert_exporter": "python",
   "pygments_lexer": "ipython3",
   "version": "3.8.6"
  }
 },
 "nbformat": 4,
 "nbformat_minor": 5
}
